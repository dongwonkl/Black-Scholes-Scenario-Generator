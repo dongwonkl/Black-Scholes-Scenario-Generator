{
  "nbformat": 4,
  "nbformat_minor": 0,
  "metadata": {
    "colab": {
      "name": "Black Scholes Scenario Generator.ipynb",
      "provenance": [],
      "collapsed_sections": []
    },
    "kernelspec": {
      "name": "ir",
      "display_name": "R"
    },
    "language_info": {
      "name": "R"
    }
  },
  "cells": [
    {
      "cell_type": "markdown",
      "source": [
        "#Black Scholes Scenario Generator\n",
        "Given an option with a strike price and days to expiry, this function generates the Black Scholes value of the option for a range of market prices on each day until expiry. \n",
        "\n",
        "Assumptions:\n",
        "\n",
        "Constant volatility. Due to the volatility smile, the Black Scholes calculations become less accurate for the generated stock prices further from the current stock price. \n",
        "\n",
        "We will incorporate stochastic volatility in the future.\n",
        "\n",
        "\n"
      ],
      "metadata": {
        "id": "QfmqvwPk8MD4"
      }
    },
    {
      "cell_type": "markdown",
      "source": [
        "##Inputs:\n",
        "Update then run all cells (CTRL+F9)\n"
      ],
      "metadata": {
        "id": "fnA-Czeq9tl3"
      }
    },
    {
      "cell_type": "code",
      "execution_count": null,
      "metadata": {
        "id": "AOfzhK9m6eI2"
      },
      "outputs": [],
      "source": [
        "## Range of market prices to generate\n",
        "priceRangeMax = 3\n",
        "step = 0.5       ## price increments\n",
        "\n",
        "## \"C\" for Call ## \"P\" for Put\n",
        "Type = \"P\"\n",
        "\n",
        "## Current price\n",
        "CurrentPrice = 339\n",
        "\n",
        "## Strike price\n",
        "Strike = 338\n",
        "\n",
        "## Time to expiry (days) ## include current day and expiry day \n",
        "ttDays = 1\n",
        "\n",
        "## Volatility (annual)   \n",
        "ssigma = 0.35\n",
        "\n",
        "## Risk free rate (annual continuous compounding)\n",
        "rr = 0.04\n",
        "## Dividend\n",
        "DivBoolean = FALSE   ## true if there is dividend before expiry date. False otherwise\n",
        "Div = NULL  ## vector of dividends\n",
        "## Time to ex-dividend date (years)\n",
        "ttDiv = NULL  ## vector of times \n"
      ]
    },
    {
      "cell_type": "code",
      "source": [
        "#@title\n",
        "## No dividends\n",
        "NoDiv = function(S, K, t, sigma, r, type=\"C\"){\n",
        "  d1 = (log(S/K) + (r + sigma**2/2)*t)/(sigma*sqrt(t)) \n",
        "  d2 = d1 - sigma*sqrt(t)\n",
        "  price = ifelse(type == \"P\", \n",
        "                 pnorm(d2, lower.tail = F)*K*exp(-r*t) - pnorm(d1, lower.tail = F)*S,\n",
        "                 pnorm(d1)*S - pnorm(d2)*K*exp(-r*t))\n",
        "  delta = ifelse(type == \"P\", pnorm(d1)-1, pnorm(d1))\n",
        "  output = c(price, delta)\n",
        "  names(output) = c(\"Price\", \"Delta\")\n",
        "  return(round(output,4))\n",
        "}\n",
        "\n",
        "## Black's approximation for American options with discrete dividends\n",
        "## Option price = max(method 1, method 2)\n",
        "\n",
        "BlackApprox = function(S, K , t, sigma, r, div, tdiv, type=\"C\"){\n",
        "  \n",
        "  ## 1: European option with stock price reduced by the present value of dividends\n",
        "  price = c()\n",
        "  delta = c()\n",
        "  PVdiv = div %*% exp(-tdiv*r)\n",
        "  Sdiv = S - PVdiv\n",
        "  d1 = (log(Sdiv/K) + (r + sigma**2/2)*t)/(sigma*sqrt(t)) \n",
        "  d2 = d1 - sigma*sqrt(t)\n",
        "  price[1] = ifelse(type == \"P\", \n",
        "                    pnorm(d2, lower.tail = F)*K*exp(-r*t) - pnorm(d1, lower.tail = F)*Sdiv,\n",
        "                    pnorm(d1)*Sdiv - pnorm(d2)*K*exp(-r*t))\n",
        "  delta[1] = ifelse(type == \"P\", pnorm(d1)-1, pnorm(d1))\n",
        "  \n",
        "  ## 2: European option that expires on the day before the last dividend\n",
        "  ndiv = length(div)\n",
        "  PVdiv = div[-ndiv] %*% exp(-tdiv[-ndiv]*r) \n",
        "  Sdiv = S - PVdiv\n",
        "  t = tdiv[ndiv]\n",
        "  d1 = (log(Sdiv/K) + (r + sigma**2/2)*t)/(sigma*sqrt(t))\n",
        "  d2 = d1 - sigma*sqrt(t)\n",
        "  price[2] = ifelse(type == \"P\", \n",
        "                    pnorm(d2, lower.tail = F)*K*exp(-r*t) - pnorm(d1, lower.tail = F)*Sdiv,\n",
        "                    pnorm(d1)*Sdiv - pnorm(d2)*K*exp(-r*t))\n",
        "  delta[2] = ifelse(type == \"P\", pnorm(d1)-1, pnorm(d1))\n",
        "  \n",
        "  ## Take max of both methods\n",
        "  output = c(price[which.max(price)], delta[which.max(price)])\n",
        "  \n",
        "  names(output) = c(\"Price\", \"Delta\")\n",
        "  return(round(output,4))\n",
        "}\n",
        "\n",
        "BlackScholes = function(S, K, t, sigma, r, divBoolean=F, div=NULL, tdiv=NULL, type=\"C\"){\n",
        "  if(divBoolean){\n",
        "    BlackApprox(S,K,t,sigma,r,div,tdiv,type)\n",
        "  } else {\n",
        "    NoDiv(S,K,t,sigma,r,type)\n",
        "  }\n",
        "}\n",
        "\n",
        "BS_Scenario = function(){\n",
        "  priceRange = round(seq(CurrentPrice-priceRangeMax,  \n",
        "                         CurrentPrice+priceRangeMax, \n",
        "                         by = step),1)\n",
        "  prices = matrix(nrow=ttDays, ncol = length(priceRange))\n",
        "  ii = 1\n",
        "  jj = 1\n",
        "  for (day in ttDays:1){\n",
        "    for (price in priceRange){\n",
        "      prices[ii, jj] = BlackScholes(S = price,\n",
        "                                    K = Strike,\n",
        "                                    t = day/365,\n",
        "                                    sigma = ssigma,\n",
        "                                    r = rr,\n",
        "                                    divBoolean = DivBoolean,\n",
        "                                    div = Div,\n",
        "                                    tdiv = ttDiv,\n",
        "                                    type = Type)[1]\n",
        "      jj = ifelse(jj == length(priceRange), 1, jj+1)\n",
        "    }\n",
        "    ii = ifelse(ii == ttDays, 1, ii+1)\n",
        "  }\n",
        "  colnames(prices) = priceRange\n",
        "  rownames(prices) = ttDays:1\n",
        "  if(Type==\"P\"){\n",
        "    print(\"Put Option\")\n",
        "  } else {\n",
        "    print(\"Call Option\")\n",
        "  }\n",
        "  print(paste('Strike               :', Strike))\n",
        "  print(paste('Days to Expiry       :' , ttDays))\n",
        "  print(paste('Current Option Value :', (BlackScholes(S = CurrentPrice,\n",
        "                                                     K = Strike,\n",
        "                                                     t = ttDays/365,\n",
        "                                                     sigma = ssigma,\n",
        "                                                     r = rr,\n",
        "                                                     divBoolean = DivBoolean,\n",
        "                                                     div = Div,\n",
        "                                                     tdiv = ttDiv,\n",
        "                                                     type = Type)[1])))\n",
        "  print(paste('Current Stock Price  :', CurrentPrice))\n",
        "  print(\"--------------------------------------------\")\n",
        "  print(\"ROW: DAYS TO EXPIRY #### COLUMN: STOCK PRICE\")\n",
        "  print(\"1 is DAY OF EXPIRY\")\n",
        "  print(\"--------------------------------------------\")\n",
        "\n",
        "  return(round(prices,2))\n",
        "}"
      ],
      "metadata": {
        "id": "Q5LhiV1L7fOy"
      },
      "execution_count": null,
      "outputs": []
    },
    {
      "cell_type": "code",
      "source": [
        "BS_Scenario()"
      ],
      "metadata": {
        "colab": {
          "base_uri": "https://localhost:8080/",
          "height": 250
        },
        "id": "6K_rnYas77Yd",
        "outputId": "bb03fd47-18aa-424e-e6d4-28b32ccba863"
      },
      "execution_count": null,
      "outputs": [
        {
          "output_type": "stream",
          "name": "stdout",
          "text": [
            "[1] \"Put Option\"\n",
            "[1] \"Strike               : 338\"\n",
            "[1] \"Days to Expiry       : 1\"\n",
            "[1] \"Current Option Value : 1.9898\"\n",
            "[1] \"Current Stock Price  : 339\"\n",
            "[1] \"--------------------------------------------\"\n",
            "[1] \"ROW: DAYS TO EXPIRY #### COLUMN: STOCK PRICE\"\n",
            "[1] \"1 is DAY OF EXPIRY\"\n",
            "[1] \"--------------------------------------------\"\n"
          ]
        },
        {
          "output_type": "display_data",
          "data": {
            "text/plain": [
              "  336  336.5 337  337.5 338  338.5 339  339.5 340  340.5 341  341.5 342 \n",
              "1 3.57 3.26  2.98 2.71  2.45 2.21  1.99 1.78  1.59 1.41  1.25 1.1   0.97"
            ],
            "text/latex": "A matrix: 1 × 13 of type dbl\n\\begin{tabular}{r|lllllllllllll}\n  & 336 & 336.5 & 337 & 337.5 & 338 & 338.5 & 339 & 339.5 & 340 & 340.5 & 341 & 341.5 & 342\\\\\n\\hline\n\t1 & 3.57 & 3.26 & 2.98 & 2.71 & 2.45 & 2.21 & 1.99 & 1.78 & 1.59 & 1.41 & 1.25 & 1.1 & 0.97\\\\\n\\end{tabular}\n",
            "text/markdown": "\nA matrix: 1 × 13 of type dbl\n\n| <!--/--> | 336 | 336.5 | 337 | 337.5 | 338 | 338.5 | 339 | 339.5 | 340 | 340.5 | 341 | 341.5 | 342 |\n|---|---|---|---|---|---|---|---|---|---|---|---|---|---|\n| 1 | 3.57 | 3.26 | 2.98 | 2.71 | 2.45 | 2.21 | 1.99 | 1.78 | 1.59 | 1.41 | 1.25 | 1.1 | 0.97 |\n\n",
            "text/html": [
              "<table class=\"dataframe\">\n",
              "<caption>A matrix: 1 × 13 of type dbl</caption>\n",
              "<thead>\n",
              "\t<tr><th></th><th scope=col>336</th><th scope=col>336.5</th><th scope=col>337</th><th scope=col>337.5</th><th scope=col>338</th><th scope=col>338.5</th><th scope=col>339</th><th scope=col>339.5</th><th scope=col>340</th><th scope=col>340.5</th><th scope=col>341</th><th scope=col>341.5</th><th scope=col>342</th></tr>\n",
              "</thead>\n",
              "<tbody>\n",
              "\t<tr><th scope=row>1</th><td>3.57</td><td>3.26</td><td>2.98</td><td>2.71</td><td>2.45</td><td>2.21</td><td>1.99</td><td>1.78</td><td>1.59</td><td>1.41</td><td>1.25</td><td>1.1</td><td>0.97</td></tr>\n",
              "</tbody>\n",
              "</table>\n"
            ]
          },
          "metadata": {}
        }
      ]
    }
  ]
}